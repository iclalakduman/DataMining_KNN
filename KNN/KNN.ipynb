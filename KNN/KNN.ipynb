{
 "cells": [
  {
   "cell_type": "code",
   "execution_count": 1,
   "id": "939fcc33",
   "metadata": {},
   "outputs": [
    {
     "name": "stdout",
     "output_type": "stream",
     "text": [
      "Uyarılar kapatıldı\n"
     ]
    }
   ],
   "source": [
    "# gerekli kütüphaneler\n",
    "import pandas as pd\n",
    "import numpy as np\n",
    "import matplotlib.pyplot as plt\n",
    "import warnings\n",
    "from sklearn.cluster import KMeans\n",
    "from sklearn import preprocessing\n",
    "#Uyarıları kapatılıyor\n",
    "warnings.filterwarnings(\"ignore\")\n",
    "print(\"Uyarılar kapatıldı\")"
   ]
  },
  {
   "cell_type": "code",
   "execution_count": 2,
   "id": "cddbcdb3",
   "metadata": {},
   "outputs": [],
   "source": [
    "# veri seti okunuyor\n",
    "df=pd.read_csv(\"Final-data.csv\")"
   ]
  },
  {
   "cell_type": "code",
   "execution_count": 3,
   "id": "f7989051",
   "metadata": {},
   "outputs": [
    {
     "data": {
      "text/html": [
       "<div>\n",
       "<style scoped>\n",
       "    .dataframe tbody tr th:only-of-type {\n",
       "        vertical-align: middle;\n",
       "    }\n",
       "\n",
       "    .dataframe tbody tr th {\n",
       "        vertical-align: top;\n",
       "    }\n",
       "\n",
       "    .dataframe thead th {\n",
       "        text-align: right;\n",
       "    }\n",
       "</style>\n",
       "<table border=\"1\" class=\"dataframe\">\n",
       "  <thead>\n",
       "    <tr style=\"text-align: right;\">\n",
       "      <th></th>\n",
       "      <th>a1</th>\n",
       "      <th>a2</th>\n",
       "      <th>a3</th>\n",
       "      <th>a4</th>\n",
       "      <th>a5</th>\n",
       "      <th>a6</th>\n",
       "      <th>a7</th>\n",
       "      <th>a8</th>\n",
       "      <th>a9</th>\n",
       "    </tr>\n",
       "  </thead>\n",
       "  <tbody>\n",
       "    <tr>\n",
       "      <th>0</th>\n",
       "      <td>1.5210</td>\n",
       "      <td>13.64</td>\n",
       "      <td>4.49</td>\n",
       "      <td>1.10</td>\n",
       "      <td>71.78</td>\n",
       "      <td>0.06</td>\n",
       "      <td>8.75</td>\n",
       "      <td>0.00</td>\n",
       "      <td>0.0</td>\n",
       "    </tr>\n",
       "    <tr>\n",
       "      <th>1</th>\n",
       "      <td>1.5176</td>\n",
       "      <td>13.89</td>\n",
       "      <td>3.60</td>\n",
       "      <td>1.36</td>\n",
       "      <td>72.73</td>\n",
       "      <td>0.48</td>\n",
       "      <td>7.83</td>\n",
       "      <td>0.00</td>\n",
       "      <td>0.0</td>\n",
       "    </tr>\n",
       "    <tr>\n",
       "      <th>2</th>\n",
       "      <td>1.5162</td>\n",
       "      <td>13.53</td>\n",
       "      <td>3.55</td>\n",
       "      <td>1.54</td>\n",
       "      <td>72.99</td>\n",
       "      <td>0.39</td>\n",
       "      <td>7.78</td>\n",
       "      <td>0.00</td>\n",
       "      <td>0.0</td>\n",
       "    </tr>\n",
       "    <tr>\n",
       "      <th>3</th>\n",
       "      <td>1.5177</td>\n",
       "      <td>13.21</td>\n",
       "      <td>3.69</td>\n",
       "      <td>1.29</td>\n",
       "      <td>72.61</td>\n",
       "      <td>0.57</td>\n",
       "      <td>8.22</td>\n",
       "      <td>0.00</td>\n",
       "      <td>0.0</td>\n",
       "    </tr>\n",
       "    <tr>\n",
       "      <th>4</th>\n",
       "      <td>1.5174</td>\n",
       "      <td>13.27</td>\n",
       "      <td>3.62</td>\n",
       "      <td>1.24</td>\n",
       "      <td>73.08</td>\n",
       "      <td>0.55</td>\n",
       "      <td>8.07</td>\n",
       "      <td>0.00</td>\n",
       "      <td>0.0</td>\n",
       "    </tr>\n",
       "    <tr>\n",
       "      <th>...</th>\n",
       "      <td>...</td>\n",
       "      <td>...</td>\n",
       "      <td>...</td>\n",
       "      <td>...</td>\n",
       "      <td>...</td>\n",
       "      <td>...</td>\n",
       "      <td>...</td>\n",
       "      <td>...</td>\n",
       "      <td>...</td>\n",
       "    </tr>\n",
       "    <tr>\n",
       "      <th>209</th>\n",
       "      <td>1.5162</td>\n",
       "      <td>14.14</td>\n",
       "      <td>0.00</td>\n",
       "      <td>2.88</td>\n",
       "      <td>72.61</td>\n",
       "      <td>0.08</td>\n",
       "      <td>9.18</td>\n",
       "      <td>1.06</td>\n",
       "      <td>0.0</td>\n",
       "    </tr>\n",
       "    <tr>\n",
       "      <th>210</th>\n",
       "      <td>1.5169</td>\n",
       "      <td>14.92</td>\n",
       "      <td>0.00</td>\n",
       "      <td>1.99</td>\n",
       "      <td>73.06</td>\n",
       "      <td>0.00</td>\n",
       "      <td>8.40</td>\n",
       "      <td>1.59</td>\n",
       "      <td>0.0</td>\n",
       "    </tr>\n",
       "    <tr>\n",
       "      <th>211</th>\n",
       "      <td>1.5207</td>\n",
       "      <td>14.36</td>\n",
       "      <td>0.00</td>\n",
       "      <td>2.02</td>\n",
       "      <td>73.42</td>\n",
       "      <td>0.00</td>\n",
       "      <td>8.44</td>\n",
       "      <td>1.64</td>\n",
       "      <td>0.0</td>\n",
       "    </tr>\n",
       "    <tr>\n",
       "      <th>212</th>\n",
       "      <td>1.5165</td>\n",
       "      <td>14.38</td>\n",
       "      <td>0.00</td>\n",
       "      <td>1.94</td>\n",
       "      <td>73.61</td>\n",
       "      <td>0.00</td>\n",
       "      <td>8.48</td>\n",
       "      <td>1.57</td>\n",
       "      <td>0.0</td>\n",
       "    </tr>\n",
       "    <tr>\n",
       "      <th>213</th>\n",
       "      <td>1.5171</td>\n",
       "      <td>14.23</td>\n",
       "      <td>0.00</td>\n",
       "      <td>2.08</td>\n",
       "      <td>73.36</td>\n",
       "      <td>0.00</td>\n",
       "      <td>8.62</td>\n",
       "      <td>1.67</td>\n",
       "      <td>0.0</td>\n",
       "    </tr>\n",
       "  </tbody>\n",
       "</table>\n",
       "<p>214 rows × 9 columns</p>\n",
       "</div>"
      ],
      "text/plain": [
       "         a1     a2    a3    a4     a5    a6    a7    a8   a9\n",
       "0    1.5210  13.64  4.49  1.10  71.78  0.06  8.75  0.00  0.0\n",
       "1    1.5176  13.89  3.60  1.36  72.73  0.48  7.83  0.00  0.0\n",
       "2    1.5162  13.53  3.55  1.54  72.99  0.39  7.78  0.00  0.0\n",
       "3    1.5177  13.21  3.69  1.29  72.61  0.57  8.22  0.00  0.0\n",
       "4    1.5174  13.27  3.62  1.24  73.08  0.55  8.07  0.00  0.0\n",
       "..      ...    ...   ...   ...    ...   ...   ...   ...  ...\n",
       "209  1.5162  14.14  0.00  2.88  72.61  0.08  9.18  1.06  0.0\n",
       "210  1.5169  14.92  0.00  1.99  73.06  0.00  8.40  1.59  0.0\n",
       "211  1.5207  14.36  0.00  2.02  73.42  0.00  8.44  1.64  0.0\n",
       "212  1.5165  14.38  0.00  1.94  73.61  0.00  8.48  1.57  0.0\n",
       "213  1.5171  14.23  0.00  2.08  73.36  0.00  8.62  1.67  0.0\n",
       "\n",
       "[214 rows x 9 columns]"
      ]
     },
     "execution_count": 3,
     "metadata": {},
     "output_type": "execute_result"
    }
   ],
   "source": [
    "# veri seti \n",
    "df"
   ]
  },
  {
   "cell_type": "code",
   "execution_count": 4,
   "id": "597a5f7c",
   "metadata": {
    "scrolled": true
   },
   "outputs": [
    {
     "name": "stdout",
     "output_type": "stream",
     "text": [
      "<class 'pandas.core.frame.DataFrame'>\n",
      "RangeIndex: 214 entries, 0 to 213\n",
      "Data columns (total 9 columns):\n",
      " #   Column  Non-Null Count  Dtype  \n",
      "---  ------  --------------  -----  \n",
      " 0   a1      214 non-null    float64\n",
      " 1   a2      214 non-null    float64\n",
      " 2   a3      214 non-null    float64\n",
      " 3   a4      214 non-null    float64\n",
      " 4   a5      214 non-null    float64\n",
      " 5   a6      214 non-null    float64\n",
      " 6   a7      214 non-null    float64\n",
      " 7   a8      214 non-null    float64\n",
      " 8   a9      214 non-null    float64\n",
      "dtypes: float64(9)\n",
      "memory usage: 15.2 KB\n"
     ]
    }
   ],
   "source": [
    "#veri setimizde eksik veri var mı?\n",
    "#veri setimizin dytpeları ne ?\n",
    "df.info()"
   ]
  },
  {
   "cell_type": "code",
   "execution_count": 5,
   "id": "c8d46290",
   "metadata": {},
   "outputs": [],
   "source": [
    "#veri setimizde normalizason işlemi yapıyoruz\n",
    "df1=preprocessing.minmax_scale(df)"
   ]
  },
  {
   "cell_type": "code",
   "execution_count": 6,
   "id": "6d051472",
   "metadata": {},
   "outputs": [
    {
     "data": {
      "text/plain": [
       "(214, 9)"
      ]
     },
     "execution_count": 6,
     "metadata": {},
     "output_type": "execute_result"
    }
   ],
   "source": [
    "#veri setimizin boyutu\n",
    "df.shape "
   ]
  },
  {
   "cell_type": "code",
   "execution_count": 7,
   "id": "43f7d261",
   "metadata": {},
   "outputs": [
    {
     "name": "stdout",
     "output_type": "stream",
     "text": [
      "Bölünecek küme sayısını giriniz:2\n"
     ]
    }
   ],
   "source": [
    "#kümeleme için küme sayısı belirleniyor\n",
    "k=int(input('Bölünecek küme sayısını giriniz:'))"
   ]
  },
  {
   "cell_type": "code",
   "execution_count": 8,
   "id": "631c582c",
   "metadata": {},
   "outputs": [],
   "source": [
    "#kümeleme işlemi gerçekleştirilip verilerin kümesini oluşturuyoruz.\n",
    "#kümeleme işleminden snra wcss hesaplıyoruz.\n",
    "kmeans = KMeans(n_clusters = k, init = 'k-means++', max_iter = 300, n_init = 10, random_state = 0)\n",
    "y_kmeans = kmeans.fit_predict(df1)\n",
    "wcss=kmeans.inertia_"
   ]
  },
  {
   "cell_type": "code",
   "execution_count": 9,
   "id": "1ae6b051",
   "metadata": {},
   "outputs": [
    {
     "data": {
      "text/plain": [
       "array([1, 1, 1, 1, 1, 1, 1, 1, 1, 1, 1, 1, 1, 1, 1, 1, 1, 1, 1, 1, 1, 1,\n",
       "       1, 1, 1, 1, 1, 1, 1, 1, 1, 1, 1, 1, 1, 1, 1, 1, 1, 1, 1, 1, 1, 1,\n",
       "       1, 1, 1, 1, 1, 1, 1, 1, 1, 1, 1, 1, 1, 1, 1, 1, 1, 1, 1, 1, 1, 1,\n",
       "       1, 1, 1, 1, 1, 1, 1, 1, 1, 1, 1, 1, 1, 1, 1, 1, 1, 1, 1, 1, 1, 1,\n",
       "       1, 1, 1, 1, 1, 1, 1, 1, 1, 1, 1, 1, 1, 1, 1, 1, 1, 0, 0, 0, 0, 0,\n",
       "       0, 0, 0, 1, 1, 1, 1, 1, 1, 1, 1, 1, 1, 1, 1, 1, 1, 1, 1, 0, 0, 0,\n",
       "       1, 1, 1, 1, 1, 1, 1, 1, 1, 1, 1, 1, 1, 1, 1, 1, 1, 1, 1, 1, 1, 1,\n",
       "       1, 1, 1, 1, 1, 1, 1, 1, 1, 0, 0, 1, 0, 0, 0, 0, 0, 0, 0, 0, 0, 0,\n",
       "       1, 1, 1, 1, 1, 0, 0, 0, 0, 1, 1, 1, 1, 0, 0, 0, 0, 0, 0, 0, 0, 0,\n",
       "       0, 0, 0, 0, 0, 0, 0, 0, 0, 0, 0, 0, 0, 0, 0, 0])"
      ]
     },
     "execution_count": 9,
     "metadata": {},
     "output_type": "execute_result"
    }
   ],
   "source": [
    "#kümeleme işlemi sonrası küme dağılımının gösterimi\n",
    "y_kmeans"
   ]
  },
  {
   "cell_type": "code",
   "execution_count": 10,
   "id": "d2cac27f",
   "metadata": {},
   "outputs": [],
   "source": [
    "#dunn indexi hesaplaması için kütüphane tanımı\n",
    "from sklearn.metrics import davies_bouldin_score"
   ]
  },
  {
   "cell_type": "code",
   "execution_count": 11,
   "id": "f064ef95",
   "metadata": {},
   "outputs": [],
   "source": [
    "#kümelerin dağılımını atıyoruz. \n",
    "labels = kmeans.labels_"
   ]
  },
  {
   "cell_type": "code",
   "execution_count": 12,
   "id": "57dbe2df",
   "metadata": {},
   "outputs": [],
   "source": [
    "#dunn indexini hesaplatıyoruz. \n",
    "dunn=davies_bouldin_score(df1, labels)"
   ]
  },
  {
   "cell_type": "code",
   "execution_count": 13,
   "id": "d986e1c4",
   "metadata": {
    "scrolled": false
   },
   "outputs": [],
   "source": [
    "# küme dağılım sayısını öğrenmek için for döngüsüyle dağılımı hesaplıyoruz. \n",
    "ksifir=0\n",
    "kbir=0\n",
    "kiki=0\n",
    "küc=0\n",
    "kdört=0\n",
    "kbes=0\n",
    "kalti=0\n",
    "kyedi=0\n",
    "for i in range(214):\n",
    "    if y_kmeans[i]==0:\n",
    "        ksifir=ksifir+1\n",
    "    if y_kmeans[i]==1:\n",
    "        kbir=kbir+1\n",
    "    if y_kmeans[i]==2:\n",
    "        kiki=kiki+1\n",
    "    if y_kmeans[i]==3:\n",
    "        küc=küc+1\n",
    "    if y_kmeans[i]==4:\n",
    "        kdört=kdört+1\n",
    "    if y_kmeans[i]==5:\n",
    "        kbes=kbes+1\n",
    "    if y_kmeans[i]==6:\n",
    "        kalti=kalti+1\n",
    "    if y_kmeans[i]==7:\n",
    "        kyedi=kyedi+1"
   ]
  },
  {
   "cell_type": "code",
   "execution_count": 14,
   "id": "52a1bbe8",
   "metadata": {},
   "outputs": [],
   "source": [
    "#dosya işlemleri\n",
    "# dosya oluşturup içine w ile yazma işlemi yapıyoruz. \n",
    "#istenilen bilgiler eşliğinde yazma işlemini gerçekleştiriyoruz.\n",
    "# her kayıtın karşısına kümesi gelecek şekilde for döngüsü ile işlem yapıyoruz. \n",
    "# ardından gerekli sonucları ekleyip  close() ile txt dosyamızı kapatıyoruz. \n",
    "dosya = open(\"sonuc.txt\", \"w\")\n",
    "for i in range(214):\n",
    "    dosya.write(\"kayıt: \"+str(i)+\"  küme:\"+str(y_kmeans[i])+\"\\n\")\n",
    "if ksifir!=0:\n",
    "    dosya.write(\"küme 1 :\"+str(ksifir)+\" kayıt\"+\"\\n\")\n",
    "if kbir!=0:\n",
    "    dosya.write(\"küme 2 :\"+str(kbir)+\" kayıt\"+\"\\n\")\n",
    "if kiki!=0:\n",
    "    dosya.write(\"küme 3 :\"+str(kiki)+\" kayıt\"+\"\\n\")\n",
    "if küc!=0:\n",
    "    dosya.write(\"küme 4 :\"+str(küc)+\" kayıt\"+\"\\n\")\n",
    "if kdört!=0:\n",
    "    dosya.write(\"küme 5 :\"+str(kdört)+\" kayıt\"+\"\\n\")\n",
    "if kbes!=0:\n",
    "    dosya.write(\"küme 5 :\"+str(kbes)+\" kayıt\"+\"\\n\")\n",
    "if kalti!=0:\n",
    "    dosya.write(\"küme 6 :\"+str(kalti)+\" kayıt\"+\"\\n\")\n",
    "if kyedi!=0:\n",
    "    dosya.write(\"küme 7 :\"+str(kyedi)+\" kayıt\"+\"\\n\")\n",
    "\n",
    "dosya.write(\"WCSS:\"+str(wcss)+\"\\n\")\n",
    "dosya.write(\"Dunn Index:\"+str(dunn)+\"\\n\")\n",
    "dosya.close()"
   ]
  },
  {
   "cell_type": "code",
   "execution_count": 15,
   "id": "6ec5025f",
   "metadata": {},
   "outputs": [
    {
     "name": "stdout",
     "output_type": "stream",
     "text": [
      "birinci özelliği seçiniz (“a1,a2,a3,a4,a5,a6,a7,a8,a9”):a2\n",
      "ikinci özelliği seçiniz  (“a1,a2,a3,a4,a5,a6,a7,a8,a9”):a9\n"
     ]
    }
   ],
   "source": [
    "#grafik için kullanıcıdan parametre istiyoruz. \n",
    "özellik1=input(\"birinci özelliği seçiniz (“a1,a2,a3,a4,a5,a6,a7,a8,a9”):\")\n",
    "özellik2=input(\"ikinci özelliği seçiniz  (“a1,a2,a3,a4,a5,a6,a7,a8,a9”):\")\n",
    "özellik1=özellik1[1:]\n",
    "özellik2=özellik2[1:]"
   ]
  },
  {
   "cell_type": "code",
   "execution_count": 16,
   "id": "b1896517",
   "metadata": {},
   "outputs": [
    {
     "data": {
      "text/plain": [
       "('2', '9')"
      ]
     },
     "execution_count": 16,
     "metadata": {},
     "output_type": "execute_result"
    }
   ],
   "source": [
    "#parametlerelerin sayısal değerleri\n",
    "özellik1,özellik2"
   ]
  },
  {
   "cell_type": "code",
   "execution_count": 17,
   "id": "73c46eed",
   "metadata": {},
   "outputs": [
    {
     "data": {
      "text/plain": [
       "Text(0, 0.5, 'a9')"
      ]
     },
     "execution_count": 17,
     "metadata": {},
     "output_type": "execute_result"
    },
    {
     "data": {
      "image/png": "[encoded data removed]",
      "text/plain": [
       "<Figure size 432x288 with 1 Axes>"
      ]
     },
     "metadata": {
      "needs_background": "light"
     },
     "output_type": "display_data"
    }
   ],
   "source": [
    "# istenilen özelliklere göre grafiğimizi oluşturuyoruz. \n",
    "plt.scatter(df1[:,int(özellik1)-1], df1[:,int(özellik2)-1], c=labels)\n",
    "plt.xlabel(\"a\"+özellik1)\n",
    "plt.ylabel(\"a\"+özellik2)"
   ]
  },
  {
   "cell_type": "code",
   "execution_count": null,
   "id": "85e5c111",
   "metadata": {},
   "outputs": [],
   "source": []
  },
  {
   "cell_type": "code",
   "execution_count": null,
   "id": "38322f27",
   "metadata": {},
   "outputs": [],
   "source": []
  }
 ],
 "metadata": {
  "kernelspec": {
   "display_name": "Python 3 (ipykernel)",
   "language": "python",
   "name": "python3"
  },
  "language_info": {
   "codemirror_mode": {
    "name": "ipython",
    "version": 3
   },
   "file_extension": ".py",
   "mimetype": "text/x-python",
   "name": "python",
   "nbconvert_exporter": "python",
   "pygments_lexer": "ipython3",
   "version": "3.10.9"
  }
 },
 "nbformat": 4,
 "nbformat_minor": 5
}
